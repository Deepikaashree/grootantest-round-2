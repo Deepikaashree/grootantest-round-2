{
 "cells": [
  {
   "cell_type": "code",
   "execution_count": 1,
   "metadata": {},
   "outputs": [
    {
     "name": "stdout",
     "output_type": "stream",
     "text": [
      "Deepikaa Shree S\n"
     ]
    }
   ],
   "source": [
    "import tweepy\n",
    "consumer_key=\"I2y8ybmXPM8IBXGZ7f5oJJtzo\"\n",
    "consumer_secret=\"lbnnO7pQ9lhcgFCH6WmWbUPrWgVhJszhp4L5VnTmjzLSz9c0Wp\"\n",
    "access_token=\"1318474826613321728-ahR1su2V6W7grmGns1ohlyo9qvHGTE\"\n",
    "access_token_secret=\"8GLn9lk28ITVg6QTOrK1KwbFM8YyB6TPFRcqpKxT5j5Xb\"\n",
    "auth = tweepy.OAuthHandler(consumer_key, consumer_secret)\n",
    "auth.set_access_token(access_token, access_token_secret)\n",
    "\n",
    "api = tweepy.API(auth)\n",
    "\n",
    "print(api.me().name)"
   ]
  },
  {
   "cell_type": "code",
   "execution_count": 2,
   "metadata": {},
   "outputs": [
    {
     "name": "stdout",
     "output_type": "stream",
     "text": [
      "Twitter\n",
      "58387486\n",
      "LACity\n",
      "CityofSeattle\n",
      "chicago\n",
      "MiamiBeachNews\n",
      "CityofMiami\n",
      "NJGov\n",
      "inAsburyParkNJ\n",
      "JerseyCity\n",
      "OscarTheGrouch\n"
     ]
    }
   ],
   "source": [
    "user = api.get_user('twitter')\n",
    "#Models contain the data and some helper methods which we can then use:\n",
    "\n",
    "print(user.screen_name)\n",
    "print(user.followers_count)\n",
    "for friend in user.friends():\n",
    "    print(friend.screen_name)"
   ]
  },
  {
   "cell_type": "code",
   "execution_count": 3,
   "metadata": {},
   "outputs": [
    {
     "name": "stdout",
     "output_type": "stream",
     "text": [
      "424\n",
      "Successfully downloaded 1 tweets\n",
      "660\n",
      "Successfully downloaded 2 tweets\n",
      "3653\n",
      "Successfully downloaded 3 tweets\n",
      "294\n",
      "Successfully downloaded 4 tweets\n",
      "178\n",
      "Successfully downloaded 5 tweets\n",
      "200\n",
      "Successfully downloaded 6 tweets\n",
      "102\n",
      "Successfully downloaded 7 tweets\n",
      "97\n",
      "Successfully downloaded 8 tweets\n",
      "117\n",
      "Successfully downloaded 9 tweets\n",
      "131\n",
      "Successfully downloaded 10 tweets\n",
      "130\n",
      "Successfully downloaded 11 tweets\n",
      "45\n",
      "Successfully downloaded 12 tweets\n",
      "109\n",
      "Successfully downloaded 13 tweets\n",
      "71\n",
      "Successfully downloaded 14 tweets\n",
      "55\n",
      "Successfully downloaded 15 tweets\n",
      "194\n",
      "Successfully downloaded 16 tweets\n",
      "127\n",
      "Successfully downloaded 17 tweets\n",
      "30\n",
      "Successfully downloaded 18 tweets\n",
      "44\n",
      "Successfully downloaded 19 tweets\n",
      "25\n",
      "Successfully downloaded 20 tweets\n",
      "471\n",
      "Successfully downloaded 21 tweets\n",
      "82\n",
      "Successfully downloaded 22 tweets\n",
      "611\n",
      "Successfully downloaded 23 tweets\n",
      "453\n",
      "Successfully downloaded 24 tweets\n",
      "246\n",
      "Successfully downloaded 25 tweets\n",
      "159\n",
      "Successfully downloaded 26 tweets\n",
      "86\n",
      "Successfully downloaded 27 tweets\n",
      "22\n",
      "Successfully downloaded 28 tweets\n",
      "133\n",
      "Successfully downloaded 29 tweets\n",
      "28\n",
      "Successfully downloaded 30 tweets\n",
      "53\n",
      "Successfully downloaded 31 tweets\n",
      "41\n",
      "Successfully downloaded 32 tweets\n",
      "44\n",
      "Successfully downloaded 33 tweets\n",
      "27\n",
      "Successfully downloaded 34 tweets\n",
      "36\n",
      "Successfully downloaded 35 tweets\n",
      "38\n",
      "Successfully downloaded 36 tweets\n",
      "40\n",
      "Successfully downloaded 37 tweets\n",
      "17\n",
      "Successfully downloaded 38 tweets\n",
      "29\n",
      "Successfully downloaded 39 tweets\n"
     ]
    }
   ],
   "source": [
    "import tweepy as tw\n",
    "import jsonpickle\n",
    "search_words = \"corona\"\n",
    "date_since = \"2020-10-16\"\n",
    "date_until = \"2020-10-20\"\n",
    "tweet_count = 0\n",
    "# Collect tweets\n",
    "tweets = tw.Cursor(api.search,\n",
    "              q=search_words,\n",
    "              lang=\"en\",since=date_since,\n",
    "              until=date_until,result_type=\"popular\").items(100)\n",
    "\n",
    "#print(dir(tweets))\n",
    "# Iterate and print tweets\n",
    "#for tweet in tweets:\n",
    "#    print(tweet)\n",
    "fName = 'tweetExtract.txt' # where i save the tweets\n",
    "with open(fName,'w') as f:\n",
    "    # write all the new_tweets to a json file\n",
    "    for tweet in tweets:\n",
    "        print(tweet.retweet_count)\n",
    "        f.write(jsonpickle.encode(tweet._json,unpicklable=False)+'\\n')\n",
    "        tweet_count+=1\n",
    "        print(\"Successfully downloaded {0} tweets\".format(tweet_count))"
   ]
  },
  {
   "cell_type": "code",
   "execution_count": 7,
   "metadata": {},
   "outputs": [
    {
     "name": "stdout",
     "output_type": "stream",
     "text": [
      "424 EU_Commission\n",
      "660 srivatsayb\n",
      "3653 JolyonMaugham\n",
      "294 Tim_R_Dawson\n",
      "178 MFratzscher\n",
      "200 markessien\n",
      "102 HindolSengupta\n",
      "97 Saurabh_MLAgk\n",
      "117 TheRealPBarry\n",
      "131 TajinderBagga\n",
      "130 wef\n",
      "45 mlkhattar\n",
      "109 kamaalrkhan\n",
      "71 sanket\n",
      "55 BarryHearn\n",
      "194 kamaalrkhan\n",
      "127 kamaalrkhan\n",
      "30 EvanMcMullin\n",
      "44 kamaalrkhan\n",
      "25 DuskaSulicich\n",
      "471 FaisalJavedKhan\n",
      "82 THATAllenCovert\n",
      "611 Anoosh_C\n",
      "453 NewStatesman\n",
      "246 INCSandesh\n",
      "159 PTISindhOffice\n",
      "86 RailMinIndia\n",
      "22 BBCNews\n",
      "133 planetjedward\n",
      "28 AllieHBNews\n",
      "53 PriyankKharge\n",
      "41 CMOfficeUP\n",
      "44 mygovindia\n",
      "27 OnlyBabaSehgal\n",
      "36 mkvenu1\n",
      "38 mygovindia\n",
      "40 mygovindia\n",
      "17 MissLind_Sea\n",
      "29 arthur_affect\n",
      "{'tweet_1': {'retweet_count': 424, 'screen_name': 'EU_Commission'}, 'tweet_2': {'retweet_count': 660, 'screen_name': 'srivatsayb'}, 'tweet_3': {'retweet_count': 3653, 'screen_name': 'JolyonMaugham'}, 'tweet_4': {'retweet_count': 294, 'screen_name': 'Tim_R_Dawson'}, 'tweet_5': {'retweet_count': 178, 'screen_name': 'MFratzscher'}, 'tweet_6': {'retweet_count': 200, 'screen_name': 'markessien'}, 'tweet_7': {'retweet_count': 102, 'screen_name': 'HindolSengupta'}, 'tweet_8': {'retweet_count': 97, 'screen_name': 'Saurabh_MLAgk'}, 'tweet_9': {'retweet_count': 117, 'screen_name': 'TheRealPBarry'}, 'tweet_10': {'retweet_count': 131, 'screen_name': 'TajinderBagga'}, 'tweet_11': {'retweet_count': 130, 'screen_name': 'wef'}, 'tweet_12': {'retweet_count': 45, 'screen_name': 'mlkhattar'}, 'tweet_13': {'retweet_count': 109, 'screen_name': 'kamaalrkhan'}, 'tweet_14': {'retweet_count': 71, 'screen_name': 'sanket'}, 'tweet_15': {'retweet_count': 55, 'screen_name': 'BarryHearn'}, 'tweet_16': {'retweet_count': 194, 'screen_name': 'kamaalrkhan'}, 'tweet_17': {'retweet_count': 127, 'screen_name': 'kamaalrkhan'}, 'tweet_18': {'retweet_count': 30, 'screen_name': 'EvanMcMullin'}, 'tweet_19': {'retweet_count': 44, 'screen_name': 'kamaalrkhan'}, 'tweet_20': {'retweet_count': 25, 'screen_name': 'DuskaSulicich'}, 'tweet_21': {'retweet_count': 471, 'screen_name': 'FaisalJavedKhan'}, 'tweet_22': {'retweet_count': 82, 'screen_name': 'THATAllenCovert'}, 'tweet_23': {'retweet_count': 611, 'screen_name': 'Anoosh_C'}, 'tweet_24': {'retweet_count': 453, 'screen_name': 'NewStatesman'}, 'tweet_25': {'retweet_count': 246, 'screen_name': 'INCSandesh'}, 'tweet_26': {'retweet_count': 159, 'screen_name': 'PTISindhOffice'}, 'tweet_27': {'retweet_count': 86, 'screen_name': 'RailMinIndia'}, 'tweet_28': {'retweet_count': 22, 'screen_name': 'BBCNews'}, 'tweet_29': {'retweet_count': 133, 'screen_name': 'planetjedward'}, 'tweet_30': {'retweet_count': 28, 'screen_name': 'AllieHBNews'}, 'tweet_31': {'retweet_count': 53, 'screen_name': 'PriyankKharge'}, 'tweet_32': {'retweet_count': 41, 'screen_name': 'CMOfficeUP'}, 'tweet_33': {'retweet_count': 44, 'screen_name': 'mygovindia'}, 'tweet_34': {'retweet_count': 27, 'screen_name': 'OnlyBabaSehgal'}, 'tweet_35': {'retweet_count': 36, 'screen_name': 'mkvenu1'}, 'tweet_36': {'retweet_count': 38, 'screen_name': 'mygovindia'}, 'tweet_37': {'retweet_count': 40, 'screen_name': 'mygovindia'}, 'tweet_38': {'retweet_count': 17, 'screen_name': 'MissLind_Sea'}, 'tweet_39': {'retweet_count': 29, 'screen_name': 'arthur_affect'}}\n"
     ]
    }
   ],
   "source": [
    "import tweepy as tw\n",
    "import jsonpickle\n",
    "tweetcount = 1\n",
    "search_words = \"corona\"\n",
    "date_since = \"2020-10-16\"\n",
    "date_until = \"2020-10-20\"\n",
    "# Collect tweets\n",
    "tweets = tw.Cursor(api.search,\n",
    "              q=search_words,\n",
    "              lang=\"en\",since=date_since,\n",
    "              until=date_until,result_type=\"popular\").items(100)\n",
    "tweetfin = {}\n",
    "for tweet in tweets:\n",
    "    tweetfin['tweet_'+str(tweetcount)]={'retweet_count':tweet.retweet_count,'screen_name':tweet.user.screen_name}\n",
    "    print(tweet.retweet_count,tweet.user.screen_name)\n",
    "    tweetcount+=1\n",
    "print(tweetfin)"
   ]
  },
  {
   "cell_type": "code",
   "execution_count": 11,
   "metadata": {},
   "outputs": [
    {
     "name": "stdout",
     "output_type": "stream",
     "text": [
      "[{'retweet_count': 3653, 'screen_name': 'JolyonMaugham'}, {'retweet_count': 660, 'screen_name': 'srivatsayb'}, {'retweet_count': 611, 'screen_name': 'Anoosh_C'}, {'retweet_count': 471, 'screen_name': 'FaisalJavedKhan'}, {'retweet_count': 453, 'screen_name': 'NewStatesman'}, {'retweet_count': 424, 'screen_name': 'EU_Commission'}, {'retweet_count': 294, 'screen_name': 'Tim_R_Dawson'}, {'retweet_count': 246, 'screen_name': 'INCSandesh'}, {'retweet_count': 200, 'screen_name': 'markessien'}, {'retweet_count': 194, 'screen_name': 'kamaalrkhan'}, {'retweet_count': 178, 'screen_name': 'MFratzscher'}, {'retweet_count': 159, 'screen_name': 'PTISindhOffice'}, {'retweet_count': 133, 'screen_name': 'planetjedward'}, {'retweet_count': 131, 'screen_name': 'TajinderBagga'}, {'retweet_count': 130, 'screen_name': 'wef'}, {'retweet_count': 127, 'screen_name': 'kamaalrkhan'}, {'retweet_count': 117, 'screen_name': 'TheRealPBarry'}, {'retweet_count': 109, 'screen_name': 'kamaalrkhan'}, {'retweet_count': 102, 'screen_name': 'HindolSengupta'}, {'retweet_count': 97, 'screen_name': 'Saurabh_MLAgk'}, {'retweet_count': 86, 'screen_name': 'RailMinIndia'}, {'retweet_count': 82, 'screen_name': 'THATAllenCovert'}, {'retweet_count': 71, 'screen_name': 'sanket'}, {'retweet_count': 55, 'screen_name': 'BarryHearn'}, {'retweet_count': 53, 'screen_name': 'PriyankKharge'}, {'retweet_count': 45, 'screen_name': 'mlkhattar'}, {'retweet_count': 44, 'screen_name': 'kamaalrkhan'}, {'retweet_count': 44, 'screen_name': 'mygovindia'}, {'retweet_count': 41, 'screen_name': 'CMOfficeUP'}, {'retweet_count': 40, 'screen_name': 'mygovindia'}, {'retweet_count': 38, 'screen_name': 'mygovindia'}, {'retweet_count': 36, 'screen_name': 'mkvenu1'}, {'retweet_count': 30, 'screen_name': 'EvanMcMullin'}, {'retweet_count': 29, 'screen_name': 'arthur_affect'}, {'retweet_count': 28, 'screen_name': 'AllieHBNews'}, {'retweet_count': 27, 'screen_name': 'OnlyBabaSehgal'}, {'retweet_count': 25, 'screen_name': 'DuskaSulicich'}, {'retweet_count': 22, 'screen_name': 'BBCNews'}, {'retweet_count': 17, 'screen_name': 'MissLind_Sea'}]\n"
     ]
    }
   ],
   "source": [
    "res = []\n",
    "for x in tweetfin.values():\n",
    "    res.append(x)\n",
    "def myFunc(e):\n",
    "    return e['retweet_count']\n",
    "res.sort(key=myFunc,reverse=True)\n",
    "print(res)"
   ]
  },
  {
   "cell_type": "code",
   "execution_count": 12,
   "metadata": {},
   "outputs": [
    {
     "name": "stdout",
     "output_type": "stream",
     "text": [
      "First 10 tweets with retweet count and screen name:\n",
      "\n",
      "{'retweet_count': 3653, 'screen_name': 'JolyonMaugham'}\n",
      "{'retweet_count': 660, 'screen_name': 'srivatsayb'}\n",
      "{'retweet_count': 611, 'screen_name': 'Anoosh_C'}\n",
      "{'retweet_count': 471, 'screen_name': 'FaisalJavedKhan'}\n",
      "{'retweet_count': 453, 'screen_name': 'NewStatesman'}\n",
      "{'retweet_count': 424, 'screen_name': 'EU_Commission'}\n",
      "{'retweet_count': 294, 'screen_name': 'Tim_R_Dawson'}\n",
      "{'retweet_count': 246, 'screen_name': 'INCSandesh'}\n",
      "{'retweet_count': 200, 'screen_name': 'markessien'}\n",
      "{'retweet_count': 194, 'screen_name': 'kamaalrkhan'}\n"
     ]
    }
   ],
   "source": [
    "print(\"First 10 tweets with retweet count and screen name:\\n\")\n",
    "for x in range(0,10):\n",
    "    print(res[x])"
   ]
  },
  {
   "cell_type": "code",
   "execution_count": 17,
   "metadata": {},
   "outputs": [],
   "source": [
    "fName = 'retweets.json' # where i save the tweets\n",
    "with open(fName,'w') as f:\n",
    "    # write all the new_tweets to a json file\n",
    "    for x in range(0,10):\n",
    "        f.write(str(res[x])+'\\n')"
   ]
  },
  {
   "cell_type": "code",
   "execution_count": null,
   "metadata": {},
   "outputs": [],
   "source": []
  }
 ],
 "metadata": {
  "kernelspec": {
   "display_name": "Python 3",
   "language": "python",
   "name": "python3"
  },
  "language_info": {
   "codemirror_mode": {
    "name": "ipython",
    "version": 3
   },
   "file_extension": ".py",
   "mimetype": "text/x-python",
   "name": "python",
   "nbconvert_exporter": "python",
   "pygments_lexer": "ipython3",
   "version": "3.8.3"
  }
 },
 "nbformat": 4,
 "nbformat_minor": 4
}
